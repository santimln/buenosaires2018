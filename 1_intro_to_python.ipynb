{
  "nbformat": 4,
  "nbformat_minor": 0,
  "metadata": {
    "colab": {
      "name": "1_intro_to_python",
      "version": "0.3.2",
      "provenance": [],
      "collapsed_sections": []
    },
    "kernelspec": {
      "name": "python3",
      "display_name": "Python 3"
    }
  },
  "cells": [
    {
      "cell_type": "markdown",
      "metadata": {
        "id": "view-in-github",
        "colab_type": "text"
      },
      "source": [
        "[View in Colaboratory](https://colab.research.google.com/github/tompollard/buenosaires2018/blob/master/1_intro_to_python.ipynb)"
      ]
    },
    {
      "metadata": {
        "id": "MVlG3K8qxgy5",
        "colab_type": "text"
      },
      "cell_type": "markdown",
      "source": [
        "# Santiago y Carolina son los mejores"
      ]
    },
    {
      "metadata": {
        "id": "_7Lz3V4XxyU0",
        "colab_type": "text"
      },
      "cell_type": "markdown",
      "source": [
        "In this part of the workshop, we will introduce some basic programming concepts in Python. We will then explore how these concepts allow us to carry out an anlysis that can be reproduced."
      ]
    },
    {
      "metadata": {
        "id": "iRPhL5kfzW8G",
        "colab_type": "text"
      },
      "cell_type": "markdown",
      "source": [
        "## Working with variables"
      ]
    },
    {
      "metadata": {
        "id": "IoZiyZcdzuoU",
        "colab_type": "text"
      },
      "cell_type": "markdown",
      "source": [
        "You can get output from Python by typing math into a code cell. Try executing a sum below (for example: 3 + 5)."
      ]
    },
    {
      "metadata": {
        "id": "erH-YTwfxuRn",
        "colab_type": "code",
        "colab": {}
      },
      "cell_type": "code",
      "source": [
        "3+5"
      ],
      "execution_count": 0,
      "outputs": []
    },
    {
      "metadata": {
        "id": "w6SnVmgf0EWo",
        "colab_type": "text"
      },
      "cell_type": "markdown",
      "source": [
        "However, to do anything useful, we will need to assign values to `variables`. Assign a height in cm to a variable in the cell below."
      ]
    },
    {
      "metadata": {
        "id": "lcNstJrz0fBK",
        "colab_type": "code",
        "colab": {}
      },
      "cell_type": "code",
      "source": [
        "height_cm = 180"
      ],
      "execution_count": 0,
      "outputs": []
    },
    {
      "metadata": {
        "id": "eGu0U_Gx0qru",
        "colab_type": "text"
      },
      "cell_type": "markdown",
      "source": [
        "Now the value has been assigned to our variable, we can print it in the console with `print`."
      ]
    },
    {
      "metadata": {
        "id": "IE-rDEu50kS0",
        "colab_type": "code",
        "colab": {}
      },
      "cell_type": "code",
      "source": [
        "print('Height in cm is:', height_cm)"
      ],
      "execution_count": 0,
      "outputs": []
    },
    {
      "metadata": {
        "id": "sPpkx49U1jHZ",
        "colab_type": "text"
      },
      "cell_type": "markdown",
      "source": [
        "We can also do arithmetic with the variable. Convert the height in cm to metres, then print the new value as before (Warning! In Python 2, dividing an integer by an integer will return an integer.)"
      ]
    },
    {
      "metadata": {
        "id": "7FKAojzX07BA",
        "colab_type": "code",
        "colab": {}
      },
      "cell_type": "code",
      "source": [
        "height_m = height_cm / 100\n",
        "print('height in metres:',height_m)"
      ],
      "execution_count": 0,
      "outputs": []
    },
    {
      "metadata": {
        "id": "7uxQcj-S1pSI",
        "colab_type": "text"
      },
      "cell_type": "markdown",
      "source": [
        "We can check which variables are available in memory with the special command: `%whos`"
      ]
    },
    {
      "metadata": {
        "id": "oq_2EYHn2a48",
        "colab_type": "code",
        "colab": {}
      },
      "cell_type": "code",
      "source": [
        "%whos"
      ],
      "execution_count": 0,
      "outputs": []
    },
    {
      "metadata": {
        "id": "Vol2L0iZ2p4A",
        "colab_type": "text"
      },
      "cell_type": "markdown",
      "source": [
        "We can see that each of our variables has a type (in this case `int` and `float`), describing the type of data held by the variable. We can use `type` to check the data type of a variable."
      ]
    },
    {
      "metadata": {
        "id": "D8-z9zqU2bzV",
        "colab_type": "code",
        "colab": {}
      },
      "cell_type": "code",
      "source": [
        "type(height_cm)"
      ],
      "execution_count": 0,
      "outputs": []
    },
    {
      "metadata": {
        "id": "OKYLf5d93Yz8",
        "colab_type": "text"
      },
      "cell_type": "markdown",
      "source": [
        "Another data type is a `list`, which can hold a series of items. For example, we might measure a patient's heart rate several times over a period. "
      ]
    },
    {
      "metadata": {
        "id": "hoRS1QIC25vd",
        "colab_type": "code",
        "colab": {}
      },
      "cell_type": "code",
      "source": [
        "heartrate = [66,64,63,62,66,69,70,75,76]"
      ],
      "execution_count": 0,
      "outputs": []
    },
    {
      "metadata": {
        "id": "HMofVUZc4Kkm",
        "colab_type": "code",
        "colab": {}
      },
      "cell_type": "code",
      "source": [
        "print(heartrate)"
      ],
      "execution_count": 0,
      "outputs": []
    },
    {
      "metadata": {
        "id": "pQsUlVZ44G9w",
        "colab_type": "code",
        "colab": {}
      },
      "cell_type": "code",
      "source": [
        "type(heartrate)"
      ],
      "execution_count": 0,
      "outputs": []
    },
    {
      "metadata": {
        "id": "o8ZLP_Yi4WC4",
        "colab_type": "text"
      },
      "cell_type": "markdown",
      "source": [
        "## Repeating actions in loops"
      ]
    },
    {
      "metadata": {
        "id": "Z8nHLhoC4qvC",
        "colab_type": "text"
      },
      "cell_type": "markdown",
      "source": [
        "We can access individual items in a list using an index (note, in Python, indexing begins with 0!). For example, let's view the first `[0]` and second `[1]` heart rate measurements."
      ]
    },
    {
      "metadata": {
        "id": "qrf_C_ju4PDi",
        "colab_type": "code",
        "colab": {}
      },
      "cell_type": "code",
      "source": [
        "print(heartrate[0])"
      ],
      "execution_count": 0,
      "outputs": []
    },
    {
      "metadata": {
        "id": "Ot4nlKz45IR8",
        "colab_type": "code",
        "colab": {}
      },
      "cell_type": "code",
      "source": [
        "print(heartrate[1])"
      ],
      "execution_count": 0,
      "outputs": []
    },
    {
      "metadata": {
        "id": "rnkqGV8M5PA2",
        "colab_type": "text"
      },
      "cell_type": "markdown",
      "source": [
        "We can iterate through a list with the help of a `for` loop. Let's try looping over our list of heart rates, printing each item as we go."
      ]
    },
    {
      "metadata": {
        "id": "GoRQm5zQ5Lfo",
        "colab_type": "code",
        "colab": {}
      },
      "cell_type": "code",
      "source": [
        "for i in heartrate:\n",
        "    print('the heart rate is:', i)"
      ],
      "execution_count": 0,
      "outputs": []
    },
    {
      "metadata": {
        "id": "pxtldH0p6O2n",
        "colab_type": "text"
      },
      "cell_type": "markdown",
      "source": [
        "## Making choices"
      ]
    },
    {
      "metadata": {
        "id": "ewr9OD256ZUB",
        "colab_type": "text"
      },
      "cell_type": "markdown",
      "source": [
        "Sometimes we want to take different actions depending on a set of conditions. We can do this using an `if/else` statement. Let's write a statement to test if a mean arterial pressure (`meanpressure`) is high or low."
      ]
    },
    {
      "metadata": {
        "id": "EUYw8jac5obn",
        "colab_type": "code",
        "colab": {}
      },
      "cell_type": "code",
      "source": [
        "meanpressure = 70\n",
        "\n",
        "if meanpressure < 60:\n",
        "    print('Low pressure')\n",
        "elif meanpressure > 100:\n",
        "    print('High pressure')\n",
        "else:\n",
        "    print('Normal pressure')"
      ],
      "execution_count": 0,
      "outputs": []
    },
    {
      "metadata": {
        "id": "NtZu94Zf9Sdm",
        "colab_type": "text"
      },
      "cell_type": "markdown",
      "source": [
        "## Writing our own functions"
      ]
    },
    {
      "metadata": {
        "id": "pOLj0Jto9XeO",
        "colab_type": "text"
      },
      "cell_type": "markdown",
      "source": [
        "To help organise our code and to avoid replicating the same code again and again, we can create functions. \n",
        "\n",
        "Let's create a function to convert temperature in fahrenheit to celsius, using the following formula:\n",
        "\n",
        "`celsius = (fahrenheit - 32) * 5/9`"
      ]
    },
    {
      "metadata": {
        "id": "JD2KOyjf83ry",
        "colab_type": "code",
        "colab": {}
      },
      "cell_type": "code",
      "source": [
        "def fahr_to_celsius(temp):\n",
        "  celsius = (temp - 32) * 5/9\n",
        "  return celsius\n",
        "    "
      ],
      "execution_count": 0,
      "outputs": []
    },
    {
      "metadata": {
        "id": "yq8cx3JA-34T",
        "colab_type": "text"
      },
      "cell_type": "markdown",
      "source": [
        "Now we can call the function `fahr_to_celsius` to convert a temperature from celsius to fahrenheit.\n",
        "\n"
      ]
    },
    {
      "metadata": {
        "id": "RvIyFKcD-AhD",
        "colab_type": "code",
        "colab": {}
      },
      "cell_type": "code",
      "source": [
        "body_temp_f = 98.6\n",
        "body_temp_c = fahr_to_celsius(body_temp_f)\n",
        "print('Patient body temperature is:', body_temp_c, 'celsius')"
      ],
      "execution_count": 0,
      "outputs": []
    },
    {
      "metadata": {
        "id": "YNhdu10RArbJ",
        "colab_type": "text"
      },
      "cell_type": "markdown",
      "source": [
        "## Reusing code with libraries"
      ]
    },
    {
      "metadata": {
        "id": "axG6R47bAyy3",
        "colab_type": "text"
      },
      "cell_type": "markdown",
      "source": [
        "Python is a popular language for data analysis, so thankfully we can benefit from the hard work of others with the use of libraries. Pandas, a popular library for data analysis, introduces the `DataFrame`, a convenient data structure similar to a spreadsheet. Before using a library, we will need to import it."
      ]
    },
    {
      "metadata": {
        "id": "RGSZUAsd_S6q",
        "colab_type": "code",
        "colab": {}
      },
      "cell_type": "code",
      "source": [
        "# let's assign pandas an alias, pd, for brevity\n",
        "import pandas as pd"
      ],
      "execution_count": 0,
      "outputs": []
    },
    {
      "metadata": {
        "id": "CfThlgz-CXf2",
        "colab_type": "text"
      },
      "cell_type": "markdown",
      "source": [
        "We have shared a demo dataset online containing physiological data relating to 1000 patients admitted to an intensive care unit in Boston, Massachussetts, USA. Let's load this data into our new data structure.\n"
      ]
    },
    {
      "metadata": {
        "id": "DZLx3qVCBtRb",
        "colab_type": "code",
        "colab": {}
      },
      "cell_type": "code",
      "source": [
        "url=\"https://raw.githubusercontent.com/tompollard/tableone/master/data/pn2012_demo.csv\"\n",
        "data=pd.read_csv(url)"
      ],
      "execution_count": 0,
      "outputs": []
    },
    {
      "metadata": {
        "id": "6aCiXFVpCzB9",
        "colab_type": "text"
      },
      "cell_type": "markdown",
      "source": [
        "The variable `data` should now contain our new dataset. Let's view the first few rows using `head()`. Note: parentheses `\"()\"` are generally required when we are performing an action/operation. In this case, the action is to select a limited number of rows."
      ]
    },
    {
      "metadata": {
        "id": "dIwFtenWCwwd",
        "colab_type": "code",
        "colab": {}
      },
      "cell_type": "code",
      "source": [
        "data.head()"
      ],
      "execution_count": 0,
      "outputs": []
    },
    {
      "metadata": {
        "id": "rW1KhsD5E6Ix",
        "colab_type": "text"
      },
      "cell_type": "markdown",
      "source": [
        "We can perform other operations on the dataframe. For example, using `mean()` to get an average of the columns."
      ]
    },
    {
      "metadata": {
        "id": "Uard_dDXFJzP",
        "colab_type": "code",
        "colab": {}
      },
      "cell_type": "code",
      "source": [
        "data.mean()"
      ],
      "execution_count": 0,
      "outputs": []
    },
    {
      "metadata": {
        "id": "U7HfllpfGsgn",
        "colab_type": "text"
      },
      "cell_type": "markdown",
      "source": [
        "If we are unsure of the meaning of a method, we can check by adding `?` after the method. For example, what is `max`?"
      ]
    },
    {
      "metadata": {
        "id": "ZvxQ_FjvGpV1",
        "colab_type": "code",
        "colab": {}
      },
      "cell_type": "code",
      "source": [
        "data.max?"
      ],
      "execution_count": 0,
      "outputs": []
    },
    {
      "metadata": {
        "id": "d3n1vAiQFM9G",
        "colab_type": "code",
        "colab": {}
      },
      "cell_type": "code",
      "source": [
        "data.max()"
      ],
      "execution_count": 0,
      "outputs": []
    },
    {
      "metadata": {
        "id": "xf81EvBXCzFS",
        "colab_type": "text"
      },
      "cell_type": "markdown",
      "source": [
        "We can access a single column in the data by specifying the column name after the variable. For example, we can select a list of ages with `data.Age`, and then find the mean for this column in a similar way to before."
      ]
    },
    {
      "metadata": {
        "id": "O_L2gBM1DziZ",
        "colab_type": "code",
        "colab": {}
      },
      "cell_type": "code",
      "source": [
        "print('The mean age of patients is:', data.Age.mean())"
      ],
      "execution_count": 0,
      "outputs": []
    },
    {
      "metadata": {
        "id": "EX2khCQgFvmU",
        "colab_type": "text"
      },
      "cell_type": "markdown",
      "source": [
        "Pandas also provides a convenient method `plot` for plotting data. Let's plot a distribution of the patient ages in our dataset."
      ]
    },
    {
      "metadata": {
        "id": "3WBLYL5JHSiu",
        "colab_type": "code",
        "colab": {}
      },
      "cell_type": "code",
      "source": [
        "data.Age.plot(kind='kde', title='Age of patients in years')"
      ],
      "execution_count": 0,
      "outputs": []
    }
  ]
}
